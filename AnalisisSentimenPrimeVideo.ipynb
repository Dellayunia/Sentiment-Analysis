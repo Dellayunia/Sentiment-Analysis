{
  "nbformat": 4,
  "nbformat_minor": 0,
  "metadata": {
    "colab": {
      "provenance": []
    },
    "kernelspec": {
      "name": "python3",
      "display_name": "Python 3"
    },
    "language_info": {
      "name": "python"
    }
  },
  "cells": [
    {
      "cell_type": "markdown",
      "source": [
        "# Sentiment Analysis --> Prime Video\n",
        "\n",
        "*   Scraping data from Google Play Store\n",
        "*   Preprocessing data\n",
        "    - Data Cleaning\n",
        "    - Data Transformation\n",
        "*   Performing Sentiment Analysis using Machine Learning\n",
        "    - Naive Bayes\n",
        "    - SVM\n",
        "*   Making performance evaluation\n",
        "\n",
        "\n",
        "\n"
      ],
      "metadata": {
        "id": "E4zuPkaU76r5"
      }
    },
    {
      "cell_type": "markdown",
      "source": [
        "### Conclusion\n",
        "\n",
        "*   **SVM** is overall better at classifying negative and positive categories.\n",
        "*   However, if you want more even results across all classes (including neutral), **Naive Bayes** is a better choice.\n",
        "*   **SVM** showed higher accuracy and better precision and recall in both categories.\n"
      ],
      "metadata": {
        "id": "SKTrOw6ZEyKb"
      }
    },
    {
      "cell_type": "code",
      "execution_count": 23,
      "metadata": {
        "colab": {
          "base_uri": "https://localhost:8080/"
        },
        "id": "ggpSZkJrWvlQ",
        "outputId": "d8e24f6f-1eed-470c-aa73-85d60498a79a"
      },
      "outputs": [
        {
          "output_type": "stream",
          "name": "stdout",
          "text": [
            "Requirement already satisfied: google-play-scraper in /usr/local/lib/python3.10/dist-packages (1.2.7)\n"
          ]
        }
      ],
      "source": [
        "pip install google-play-scraper\n"
      ]
    },
    {
      "cell_type": "markdown",
      "source": [
        "Scraping"
      ],
      "metadata": {
        "id": "uOu8KEzS_P5a"
      }
    },
    {
      "cell_type": "code",
      "source": [
        "from google_play_scraper import app, reviews_all\n",
        "import pandas as pd\n",
        "\n",
        "result = app('com.amazon.avod.thirdpartyclient')\n",
        "\n",
        "reviews = reviews_all(\n",
        "    'com.amazon.avod.thirdpartyclient',\n",
        "    sleep_milliseconds=0,\n",
        "    lang='id',\n",
        "    country='id'\n",
        ")\n",
        "df = pd.DataFrame(reviews)\n",
        "df = df[['content', 'score']]\n",
        "df.to_csv('prime_video_reviews.csv', index=False)"
      ],
      "metadata": {
        "id": "GsnDAH2lWzMr"
      },
      "execution_count": 24,
      "outputs": []
    },
    {
      "cell_type": "markdown",
      "source": [
        "Preprocessing"
      ],
      "metadata": {
        "id": "iTH44ueE_SDu"
      }
    },
    {
      "cell_type": "code",
      "source": [
        "import re\n",
        "from nltk.corpus import stopwords\n",
        "from nltk.tokenize import word_tokenize\n",
        "from nltk.stem import WordNetLemmatizer\n",
        "import nltk\n",
        "\n",
        "nltk.download('stopwords')\n",
        "nltk.download('punkt')\n",
        "nltk.download('wordnet')"
      ],
      "metadata": {
        "colab": {
          "base_uri": "https://localhost:8080/"
        },
        "id": "GxSujwugXN7U",
        "outputId": "a4f7f6d3-cd08-4010-a0db-61352660ef25"
      },
      "execution_count": 25,
      "outputs": [
        {
          "output_type": "stream",
          "name": "stderr",
          "text": [
            "[nltk_data] Downloading package stopwords to /root/nltk_data...\n",
            "[nltk_data]   Package stopwords is already up-to-date!\n",
            "[nltk_data] Downloading package punkt to /root/nltk_data...\n",
            "[nltk_data]   Package punkt is already up-to-date!\n",
            "[nltk_data] Downloading package wordnet to /root/nltk_data...\n",
            "[nltk_data]   Package wordnet is already up-to-date!\n"
          ]
        },
        {
          "output_type": "execute_result",
          "data": {
            "text/plain": [
              "True"
            ]
          },
          "metadata": {},
          "execution_count": 25
        }
      ]
    },
    {
      "cell_type": "markdown",
      "source": [
        "Cleaning"
      ],
      "metadata": {
        "id": "3M3cAnu56p7s"
      }
    },
    {
      "cell_type": "code",
      "source": [
        "import pandas as pd\n",
        "import re\n",
        "\n",
        "df = pd.read_csv('prime_video_reviews.csv')\n",
        "df.dropna(subset=['content'], inplace=True)\n",
        "def clean_text(text):\n",
        "    text = re.sub(r\"http\\S+|www\\S+|https\\S+\", '', text, flags=re.MULTILINE)\n",
        "    text = re.sub(r'\\@w+|\\#', '', text)\n",
        "    text = re.sub(r'[^a-zA-Z\\s]', '', text)\n",
        "    text = text.lower()\n",
        "    return text\n",
        "\n",
        "df['cleaned_content'] = df['content'].apply(clean_text)"
      ],
      "metadata": {
        "id": "dAZAUD53aTmM"
      },
      "execution_count": 26,
      "outputs": []
    },
    {
      "cell_type": "code",
      "source": [
        "import nltk\n",
        "nltk.download('punkt', force=True)"
      ],
      "metadata": {
        "colab": {
          "base_uri": "https://localhost:8080/"
        },
        "id": "2qsKWLAVc5Kg",
        "outputId": "7fef78d0-0c7e-44e2-c7d7-626992c68c95"
      },
      "execution_count": 27,
      "outputs": [
        {
          "output_type": "stream",
          "name": "stderr",
          "text": [
            "[nltk_data] Downloading package punkt to /root/nltk_data...\n",
            "[nltk_data]   Unzipping tokenizers/punkt.zip.\n"
          ]
        },
        {
          "output_type": "execute_result",
          "data": {
            "text/plain": [
              "True"
            ]
          },
          "metadata": {},
          "execution_count": 27
        }
      ]
    },
    {
      "cell_type": "code",
      "source": [
        "def remove_stopwords(text, stopwords_list):\n",
        "\n",
        "    words = text.split()\n",
        "    filtered_words = [word for word in words if word.lower() not in stopwords_list]\n",
        "    return \" \".join(filtered_words)\n",
        "df['cleaned_content_no_stopwords'] = df['cleaned_content'].apply(lambda x: remove_stopwords(x, indonesian_stopwords))\n"
      ],
      "metadata": {
        "id": "JOXxuJMICxm_"
      },
      "execution_count": 34,
      "outputs": []
    },
    {
      "cell_type": "code",
      "source": [
        "print(df['cleaned_content'].head())\n",
        "print(df['cleaned_content'].dtypes)"
      ],
      "metadata": {
        "colab": {
          "base_uri": "https://localhost:8080/"
        },
        "id": "IET8VpO0dGEX",
        "outputId": "25cfaec7-7bbc-4ad3-8700-88d1f594a7c6"
      },
      "execution_count": 35,
      "outputs": [
        {
          "output_type": "stream",
          "name": "stdout",
          "text": [
            "0                                  interesting premium\n",
            "1                                                ribet\n",
            "2                                             xnxx com\n",
            "3    aplikasi parah udah berlangganan tapi login ga...\n",
            "4                          ok mantap untuk filmfilmnya\n",
            "Name: cleaned_content, dtype: object\n",
            "object\n"
          ]
        }
      ]
    },
    {
      "cell_type": "markdown",
      "source": [
        "Transformation"
      ],
      "metadata": {
        "id": "jUDtq0ZaDLRR"
      }
    },
    {
      "cell_type": "code",
      "source": [
        "df['cleaned_content'] = df['cleaned_content'].astype(str)"
      ],
      "metadata": {
        "id": "bH2BjF9EdO67"
      },
      "execution_count": 36,
      "outputs": []
    },
    {
      "cell_type": "markdown",
      "source": [
        "Text Normalization"
      ],
      "metadata": {
        "id": "7drRQrqgDhi0"
      }
    },
    {
      "cell_type": "code",
      "source": [
        "import nltk\n",
        "from nltk.corpus import stopwords\n",
        "\n",
        "nltk.download('stopwords')\n",
        "indonesian_stopwords = stopwords.words('indonesian')"
      ],
      "metadata": {
        "colab": {
          "base_uri": "https://localhost:8080/"
        },
        "id": "uUh-OTwGjOxl",
        "outputId": "c14d5b5f-998d-45ad-9897-c292370e55d2"
      },
      "execution_count": 37,
      "outputs": [
        {
          "output_type": "stream",
          "name": "stderr",
          "text": [
            "[nltk_data] Downloading package stopwords to /root/nltk_data...\n",
            "[nltk_data]   Package stopwords is already up-to-date!\n"
          ]
        }
      ]
    },
    {
      "cell_type": "code",
      "source": [
        "def assign_sentiment(score):\n",
        "    if score <= 2:\n",
        "        return 'negative'\n",
        "    elif score == 3:\n",
        "        return 'neutral'\n",
        "    else:\n",
        "        return 'positive'\n",
        "df['sentiment'] = df['score'].apply(assign_sentiment)\n"
      ],
      "metadata": {
        "id": "gTk27ATGwhhX"
      },
      "execution_count": 38,
      "outputs": []
    },
    {
      "cell_type": "markdown",
      "source": [
        "Split data"
      ],
      "metadata": {
        "id": "anImAuhp7PS4"
      }
    },
    {
      "cell_type": "code",
      "source": [
        "from sklearn.model_selection import train_test_split\n",
        "\n",
        "X_train, X_test, y_train, y_test = train_test_split(X, y, test_size=0.2, random_state=42)"
      ],
      "metadata": {
        "id": "udqFlRdyxG_z"
      },
      "execution_count": 39,
      "outputs": []
    },
    {
      "cell_type": "code",
      "source": [
        "from sklearn.feature_extraction.text import CountVectorizer\n",
        "from sklearn.model_selection import train_test_split\n",
        "\n",
        "vectorizer = CountVectorizer(max_features=5000, stop_words='english')\n",
        "X = vectorizer.fit_transform(df['cleaned_content_no_stopwords'])\n",
        "y = df['sentiment']\n",
        "\n",
        "X_train, X_test, y_train, y_test = train_test_split(X, y, test_size=0.2, random_state=42)"
      ],
      "metadata": {
        "id": "lz36Bl9dxL2e"
      },
      "execution_count": 40,
      "outputs": []
    },
    {
      "cell_type": "markdown",
      "source": [
        "Naive Bayes"
      ],
      "metadata": {
        "id": "aTjvRPrpyEqx"
      }
    },
    {
      "cell_type": "code",
      "source": [
        "from sklearn.naive_bayes import MultinomialNB\n",
        "from sklearn.metrics import classification_report\n",
        "\n",
        "model = MultinomialNB()\n",
        "model.fit(X_train, y_train)\n",
        "y_pred = model.predict(X_test)\n",
        "print(\"Evaluasi Model Naive Bayes:\")\n",
        "print(classification_report(y_test, y_pred))"
      ],
      "metadata": {
        "colab": {
          "base_uri": "https://localhost:8080/"
        },
        "id": "gZTVx0b6xOe3",
        "outputId": "49e2571e-b321-4383-8a9c-597295230cf6"
      },
      "execution_count": 41,
      "outputs": [
        {
          "output_type": "stream",
          "name": "stdout",
          "text": [
            "Evaluasi Model Naive Bayes:\n",
            "              precision    recall  f1-score   support\n",
            "\n",
            "    negative       0.84      0.88      0.86      1988\n",
            "     neutral       0.20      0.10      0.14       214\n",
            "    positive       0.81      0.81      0.81      1317\n",
            "\n",
            "    accuracy                           0.81      3519\n",
            "   macro avg       0.62      0.60      0.60      3519\n",
            "weighted avg       0.79      0.81      0.80      3519\n",
            "\n"
          ]
        }
      ]
    },
    {
      "cell_type": "markdown",
      "source": [
        "SVM"
      ],
      "metadata": {
        "id": "C45S49e2yB_f"
      }
    },
    {
      "cell_type": "code",
      "source": [
        "from sklearn.svm import SVC\n",
        "\n",
        "svm_model = SVC()\n",
        "svm_model.fit(X_train, y_train)\n",
        "y_pred_svm = svm_model.predict(X_test)\n",
        "print(\"Evaluasi Model SVM:\")\n",
        "print(classification_report(y_test, y_pred_svm))\n"
      ],
      "metadata": {
        "colab": {
          "base_uri": "https://localhost:8080/"
        },
        "id": "SwN8uuwyyAku",
        "outputId": "219a7ddd-539a-4c0f-f568-27189c9d3c0c"
      },
      "execution_count": 42,
      "outputs": [
        {
          "output_type": "stream",
          "name": "stdout",
          "text": [
            "Evaluasi Model SVM:\n",
            "              precision    recall  f1-score   support\n",
            "\n",
            "    negative       0.85      0.91      0.88      1988\n",
            "     neutral       0.00      0.00      0.00       214\n",
            "    positive       0.80      0.86      0.83      1317\n",
            "\n",
            "    accuracy                           0.83      3519\n",
            "   macro avg       0.55      0.59      0.57      3519\n",
            "weighted avg       0.78      0.83      0.81      3519\n",
            "\n"
          ]
        },
        {
          "output_type": "stream",
          "name": "stderr",
          "text": [
            "/usr/local/lib/python3.10/dist-packages/sklearn/metrics/_classification.py:1531: UndefinedMetricWarning: Precision is ill-defined and being set to 0.0 in labels with no predicted samples. Use `zero_division` parameter to control this behavior.\n",
            "  _warn_prf(average, modifier, f\"{metric.capitalize()} is\", len(result))\n",
            "/usr/local/lib/python3.10/dist-packages/sklearn/metrics/_classification.py:1531: UndefinedMetricWarning: Precision is ill-defined and being set to 0.0 in labels with no predicted samples. Use `zero_division` parameter to control this behavior.\n",
            "  _warn_prf(average, modifier, f\"{metric.capitalize()} is\", len(result))\n",
            "/usr/local/lib/python3.10/dist-packages/sklearn/metrics/_classification.py:1531: UndefinedMetricWarning: Precision is ill-defined and being set to 0.0 in labels with no predicted samples. Use `zero_division` parameter to control this behavior.\n",
            "  _warn_prf(average, modifier, f\"{metric.capitalize()} is\", len(result))\n"
          ]
        }
      ]
    },
    {
      "cell_type": "code",
      "source": [
        "import matplotlib.pyplot as plt\n",
        "from sklearn.metrics import confusion_matrix, ConfusionMatrixDisplay\n",
        "\n",
        "cm_nb = confusion_matrix(y_test, y_pred)\n",
        "disp_nb = ConfusionMatrixDisplay(confusion_matrix=cm_nb, display_labels=model.classes_)\n",
        "\n",
        "cm_svm = confusion_matrix(y_test, y_pred_svm)\n",
        "disp_svm = ConfusionMatrixDisplay(confusion_matrix=cm_svm, display_labels=svm_model.classes_)\n",
        "\n",
        "fig, axes = plt.subplots(1, 2, figsize=(12, 6))\n",
        "\n",
        "disp_nb.plot(ax=axes[0], cmap='Blues')\n",
        "axes[0].set_title('Confusion Matrix - Naive Bayes')\n",
        "\n",
        "disp_svm.plot(ax=axes[1], cmap='Oranges')\n",
        "axes[1].set_title('Confusion Matrix - SVM')\n",
        "\n",
        "plt.tight_layout()\n",
        "plt.show()"
      ],
      "metadata": {
        "colab": {
          "base_uri": "https://localhost:8080/",
          "height": 607
        },
        "id": "mkMwxQ44yhDp",
        "outputId": "78f5f768-0749-46b5-e7e3-80766cd282f7"
      },
      "execution_count": 46,
      "outputs": [
        {
          "output_type": "display_data",
          "data": {
            "text/plain": [
              "<Figure size 1200x600 with 4 Axes>"
            ],
            "image/png": "[encoded data removed]"
          },
          "metadata": {}
        }
      ]
    }
  ]
}